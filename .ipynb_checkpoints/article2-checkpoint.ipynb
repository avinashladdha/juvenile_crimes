{
 "cells": [
  {
   "cell_type": "code",
   "execution_count": 5,
   "metadata": {
    "ExecuteTime": {
     "end_time": "2020-05-31T03:53:48.438907Z",
     "start_time": "2020-05-31T03:53:48.341032Z"
    }
   },
   "outputs": [],
   "source": [
    "import pandas as pd\n",
    "import numpy as np\n",
    "import matplotlib as mpl \n",
    "import matplotlib.pyplot as plt\n",
    "import geopandas as gpd\n",
    "imp\n",
    "from pandas.core.common import SettingWithCopyWarning\n",
    "warnings.simplefilter(action=\"ignore\", category=SettingWithCopyWarning)\n",
    "\n",
    "from ipywidgets import widgets, interactive, interact"
   ]
  },
  {
   "cell_type": "code",
   "execution_count": 6,
   "metadata": {
    "ExecuteTime": {
     "end_time": "2020-05-31T03:53:50.111422Z",
     "start_time": "2020-05-31T03:53:49.876660Z"
    }
   },
   "outputs": [
    {
     "name": "stderr",
     "output_type": "stream",
     "text": [
      "/srv/conda/envs/notebook/lib/python3.7/site-packages/ipykernel_launcher.py:3: SettingWithCopyWarning: \n",
      "A value is trying to be set on a copy of a slice from a DataFrame\n",
      "\n",
      "See the caveats in the documentation: https://pandas.pydata.org/pandas-docs/stable/user_guide/indexing.html#returning-a-view-versus-a-copy\n",
      "  This is separate from the ipykernel package so we can avoid doing imports until\n",
      "/srv/conda/envs/notebook/lib/python3.7/site-packages/ipykernel_launcher.py:4: SettingWithCopyWarning: \n",
      "A value is trying to be set on a copy of a slice from a DataFrame\n",
      "\n",
      "See the caveats in the documentation: https://pandas.pydata.org/pandas-docs/stable/user_guide/indexing.html#returning-a-view-versus-a-copy\n",
      "  after removing the cwd from sys.path.\n"
     ]
    }
   ],
   "source": [
    "fp = \"./Indian_States.shp\"\n",
    "map_df = gpd.read_file(fp)\n",
    "map_df['st_nm'][23]='Delhi'\n",
    "map_df['st_nm'][29] ='Andhra Pradesh'"
   ]
  },
  {
   "cell_type": "code",
   "execution_count": 5,
   "metadata": {
    "ExecuteTime": {
     "end_time": "2020-05-31T03:53:54.929107Z",
     "start_time": "2020-05-31T03:53:54.914850Z"
    }
   },
   "outputs": [],
   "source": [
    "transposed_df = pd.read_csv('./transposed_df.csv')"
   ]
  },
  {
   "cell_type": "code",
   "execution_count": 6,
   "metadata": {
    "ExecuteTime": {
     "end_time": "2020-05-31T03:53:56.900287Z",
     "start_time": "2020-05-31T03:53:56.897873Z"
    }
   },
   "outputs": [],
   "source": [
    "df = transposed_df\n"
   ]
  },
  {
   "cell_type": "code",
   "execution_count": 36,
   "metadata": {
    "ExecuteTime": {
     "end_time": "2020-05-31T04:06:07.405233Z",
     "start_time": "2020-05-31T04:06:07.386116Z"
    }
   },
   "outputs": [],
   "source": [
    "# Create text box and slider \n",
    "\n",
    "start_year = widgets.IntSlider(\n",
    "    value=df.year.min(),\n",
    "    min=df.year.min(),\n",
    "    max=df.year.max(),\n",
    "    step=1,\n",
    "    description='Year:',\n",
    "    disabled=False,\n",
    "    continuous_update=True,\n",
    "    orientation='horizontal',\n",
    "    readout=True,\n",
    "    readout_format='d'\n",
    ")\n",
    "\n",
    "\n",
    "# Make a dropdown to select the Area, or \"All\"\n",
    "crime = widgets.Dropdown(\n",
    "    options=list(df.columns[1:-1]),\n",
    "    value='Murder',\n",
    "    description='Crime:',\n",
    "    disabled=False\n",
    ")\n",
    "\n",
    "\n",
    "def plotit(crime, start_year):\n",
    "    \"\"\"\n",
    "    Filters and plot the dataframe for reqd year and crime type\n",
    "    Args:\n",
    "    -----\n",
    "        * Crime (str): Crime type\n",
    "\n",
    "        * start_year: the start\n",
    "\n",
    "        Note: the dataframe to plot is globally defined here as `df`\n",
    "\n",
    "    \"\"\"\n",
    "    df2 = df.copy()\n",
    "    df2 = df2[['state_nm','year',crime]]    \n",
    "    merged = map_df.set_index('st_nm').join(df2.set_index('state_nm'))\n",
    "    merged['year'] = pd.to_numeric(merged['year'])\n",
    "    merged = merged[~merged['year'].isna()]\n",
    "    merged = merged[merged['year']==start_year]\n",
    "    fig, ax = plt.subplots(1, figsize=(25, 15))\n",
    "    ax.axis('off')\n",
    "    ax.set_title(crime, fontdict={'fontsize': '25', 'fontweight' : '3'})\n",
    "    merged.plot(column=crime, cmap='RdPu', linewidth=0.8, ax=ax, edgecolor='0.8', legend=True)\n",
    "    "
   ]
  },
  {
   "cell_type": "code",
   "execution_count": 37,
   "metadata": {
    "ExecuteTime": {
     "end_time": "2020-05-31T04:06:10.047824Z",
     "start_time": "2020-05-31T04:06:08.979346Z"
    }
   },
   "outputs": [
    {
     "data": {
      "application/vnd.jupyter.widget-view+json": {
       "model_id": "766666713a0741f9937b2df62542394d",
       "version_major": 2,
       "version_minor": 0
      },
      "text/plain": [
       "interactive(children=(Dropdown(description='Crime:', index=10, options=('Arson', 'Attempt to murder', 'CH not …"
      ]
     },
     "metadata": {},
     "output_type": "display_data"
    }
   ],
   "source": [
    "interact(plotit, crime=crime, start_year=start_year)"
   ]
  }
 ],
 "metadata": {
  "kernelspec": {
   "display_name": "Python 3",
   "language": "python",
   "name": "python3"
  },
  "toc": {
   "base_numbering": 1,
   "nav_menu": {},
   "number_sections": true,
   "sideBar": true,
   "skip_h1_title": false,
   "title_cell": "Table of Contents",
   "title_sidebar": "Contents",
   "toc_cell": false,
   "toc_position": {},
   "toc_section_display": true,
   "toc_window_display": false
  }
 },
 "nbformat": 4,
 "nbformat_minor": 2
}
